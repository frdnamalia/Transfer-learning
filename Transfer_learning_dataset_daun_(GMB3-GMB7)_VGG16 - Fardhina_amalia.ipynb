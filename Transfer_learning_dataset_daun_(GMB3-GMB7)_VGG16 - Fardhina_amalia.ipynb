{
  "nbformat": 4,
  "nbformat_minor": 0,
  "metadata": {
    "kernelspec": {
      "name": "python3",
      "display_name": "Python 3"
    },
    "language_info": {
      "codemirror_mode": {
        "name": "ipython",
        "version": 3
      },
      "file_extension": ".py",
      "mimetype": "text/x-python",
      "name": "python",
      "nbconvert_exporter": "python",
      "pygments_lexer": "ipython3",
      "version": "3.7.4"
    },
    "colab": {
      "name": "Transfer learning dataset daun (GMB3-GMB7) - VGG-16 - Fardhina amalia",
      "provenance": [],
      "collapsed_sections": [],
      "include_colab_link": true
    },
    "accelerator": "GPU"
  },
  "cells": [
    {
      "cell_type": "markdown",
      "metadata": {
        "id": "view-in-github",
        "colab_type": "text"
      },
      "source": [
        "<a href=\"https://colab.research.google.com/github/frdnamalia/Transfer-learning/blob/main/Transfer_learning_dataset_daun_(GMB3-GMB7)_VGG16%20-%20Fardhina_amalia.ipynb\" target=\"_parent\"><img src=\"https://colab.research.google.com/assets/colab-badge.svg\" alt=\"Open In Colab\"/></a>"
      ]
    },
    {
      "cell_type": "markdown",
      "metadata": {
        "id": "TugrUrjPGf5O"
      },
      "source": [
        "# **Transfer learning dataset daun (GMB3-GMB7) - VGG-16** \n",
        "#**Fardhina amalia (2101192059)**"
      ]
    },
    {
      "cell_type": "code",
      "metadata": {
        "id": "_dJvuvIBVLS_",
        "colab": {
          "base_uri": "https://localhost:8080/"
        },
        "outputId": "5b8d2ad5-2fad-47c2-de2e-9fe19763aa3d"
      },
      "source": [
        "#import data melalui google drive\n",
        "from google.colab import drive\n",
        "drive.mount('/content/drive')"
      ],
      "execution_count": 1,
      "outputs": [
        {
          "output_type": "stream",
          "text": [
            "Drive already mounted at /content/drive; to attempt to forcibly remount, call drive.mount(\"/content/drive\", force_remount=True).\n"
          ],
          "name": "stdout"
        }
      ]
    },
    {
      "cell_type": "code",
      "metadata": {
        "id": "H215ikbNVVZS",
        "colab": {
          "base_uri": "https://localhost:8080/"
        },
        "outputId": "3c043686-ca48-41cb-fdf9-30494e0f2e87"
      },
      "source": [
        "cd /content/drive/My Drive/Colab Notebooks"
      ],
      "execution_count": 2,
      "outputs": [
        {
          "output_type": "stream",
          "text": [
            "/content/drive/My Drive/Colab Notebooks\n"
          ],
          "name": "stdout"
        }
      ]
    },
    {
      "cell_type": "code",
      "metadata": {
        "id": "5IGm26ZzVGBs"
      },
      "source": [
        "# import the necessary packages\n",
        "from keras.models import Sequential\n",
        "from keras.layers.convolutional import Conv2D\n",
        "from keras.layers.convolutional import MaxPooling2D\n",
        "from keras.layers.core import Activation\n",
        "from keras.layers.core import Flatten\n",
        "from keras.layers.core import Dense\n",
        "from keras.optimizers import Adam\n",
        "from sklearn.preprocessing import LabelBinarizer\n",
        "from sklearn.model_selection import train_test_split\n",
        "from sklearn.metrics import classification_report\n",
        "from PIL import Image\n",
        "from imutils import paths\n",
        "import numpy as np\n",
        "import os\n",
        "from keras.callbacks import EarlyStopping, ModelCheckpoint\n",
        "from keras.models import Model\n",
        "from keras.layers import GlobalAveragePooling2D, BatchNormalization\n",
        "from keras.layers import Dropout\n",
        "import tensorflow as tf \n",
        "from tensorflow.keras.preprocessing.image import ImageDataGenerator \n",
        "from tensorflow.keras import layers \n",
        "from tensorflow.keras import Model \n",
        "import matplotlib.pyplot as plt"
      ],
      "execution_count": 3,
      "outputs": []
    },
    {
      "cell_type": "code",
      "metadata": {
        "id": "0-5PXYTsVGBw",
        "colab": {
          "base_uri": "https://localhost:8080/"
        },
        "outputId": "9d35d545-ef03-4823-cd08-98fa1f817a44"
      },
      "source": [
        "# grab all image paths in the input dataset directory, then initialize\n",
        "# our list of images and corresponding class labels\n",
        "print(\"[INFO] loading images...\")\n",
        "imagePaths = paths.list_images(\"daun\")\n",
        "data = []\n",
        "labels = []"
      ],
      "execution_count": 4,
      "outputs": [
        {
          "output_type": "stream",
          "text": [
            "[INFO] loading images...\n"
          ],
          "name": "stdout"
        }
      ]
    },
    {
      "cell_type": "code",
      "metadata": {
        "id": "lRsoqPoyE8Fe"
      },
      "source": [
        "file_name = []\n",
        "tag = []\n",
        "full_path = []\n",
        "for path, subdirs, files in os.walk('daun'):\n",
        "    for name in files:\n",
        "        full_path.append(os.path.join(path, name)) \n",
        "        tag.append(path.split('/')[-1])        \n",
        "        file_name.append(name)"
      ],
      "execution_count": 5,
      "outputs": []
    },
    {
      "cell_type": "code",
      "metadata": {
        "colab": {
          "base_uri": "https://localhost:8080/"
        },
        "id": "ptX5aI5BFBFq",
        "outputId": "ef393a2a-3c77-4a06-d9a9-dd9a514a7101"
      },
      "source": [
        "import pandas as pd\n",
        "# memasukan variabel yang sudah dikumpulkan pada looping di atas menjadi sebuah dataframe agar rapih\n",
        "df = pd.DataFrame({\"path\":full_path,'file_name':file_name,\"tag\":tag})\n",
        "df.groupby(['tag']).size()"
      ],
      "execution_count": 6,
      "outputs": [
        {
          "output_type": "execute_result",
          "data": {
            "text/plain": [
              "tag\n",
              "GMB_03    112\n",
              "GMB_04    122\n",
              "GMB_05    121\n",
              "GMB_06    121\n",
              "GMB_07    121\n",
              "dtype: int64"
            ]
          },
          "metadata": {
            "tags": []
          },
          "execution_count": 6
        }
      ]
    },
    {
      "cell_type": "code",
      "metadata": {
        "colab": {
          "base_uri": "https://localhost:8080/",
          "height": 202
        },
        "id": "cD6HV7NbFEzf",
        "outputId": "e07a7186-28cc-4295-ee40-758be7840eea"
      },
      "source": [
        "#cek sample datanya\n",
        "df.head()"
      ],
      "execution_count": 7,
      "outputs": [
        {
          "output_type": "execute_result",
          "data": {
            "text/html": [
              "<div>\n",
              "<style scoped>\n",
              "    .dataframe tbody tr th:only-of-type {\n",
              "        vertical-align: middle;\n",
              "    }\n",
              "\n",
              "    .dataframe tbody tr th {\n",
              "        vertical-align: top;\n",
              "    }\n",
              "\n",
              "    .dataframe thead th {\n",
              "        text-align: right;\n",
              "    }\n",
              "</style>\n",
              "<table border=\"1\" class=\"dataframe\">\n",
              "  <thead>\n",
              "    <tr style=\"text-align: right;\">\n",
              "      <th></th>\n",
              "      <th>path</th>\n",
              "      <th>file_name</th>\n",
              "      <th>tag</th>\n",
              "    </tr>\n",
              "  </thead>\n",
              "  <tbody>\n",
              "    <tr>\n",
              "      <th>0</th>\n",
              "      <td>daun/GMB_07/IMG_20200814_120040_HDR.jpg</td>\n",
              "      <td>IMG_20200814_120040_HDR.jpg</td>\n",
              "      <td>GMB_07</td>\n",
              "    </tr>\n",
              "    <tr>\n",
              "      <th>1</th>\n",
              "      <td>daun/GMB_07/IMG_20200814_120133_HDR.jpg</td>\n",
              "      <td>IMG_20200814_120133_HDR.jpg</td>\n",
              "      <td>GMB_07</td>\n",
              "    </tr>\n",
              "    <tr>\n",
              "      <th>2</th>\n",
              "      <td>daun/GMB_07/IMG_20200814_120141_HDR.jpg</td>\n",
              "      <td>IMG_20200814_120141_HDR.jpg</td>\n",
              "      <td>GMB_07</td>\n",
              "    </tr>\n",
              "    <tr>\n",
              "      <th>3</th>\n",
              "      <td>daun/GMB_07/IMG_20200814_120210_HDR.jpg</td>\n",
              "      <td>IMG_20200814_120210_HDR.jpg</td>\n",
              "      <td>GMB_07</td>\n",
              "    </tr>\n",
              "    <tr>\n",
              "      <th>4</th>\n",
              "      <td>daun/GMB_07/IMG_20200814_120223_HDR.jpg</td>\n",
              "      <td>IMG_20200814_120223_HDR.jpg</td>\n",
              "      <td>GMB_07</td>\n",
              "    </tr>\n",
              "  </tbody>\n",
              "</table>\n",
              "</div>"
            ],
            "text/plain": [
              "                                      path                    file_name     tag\n",
              "0  daun/GMB_07/IMG_20200814_120040_HDR.jpg  IMG_20200814_120040_HDR.jpg  GMB_07\n",
              "1  daun/GMB_07/IMG_20200814_120133_HDR.jpg  IMG_20200814_120133_HDR.jpg  GMB_07\n",
              "2  daun/GMB_07/IMG_20200814_120141_HDR.jpg  IMG_20200814_120141_HDR.jpg  GMB_07\n",
              "3  daun/GMB_07/IMG_20200814_120210_HDR.jpg  IMG_20200814_120210_HDR.jpg  GMB_07\n",
              "4  daun/GMB_07/IMG_20200814_120223_HDR.jpg  IMG_20200814_120223_HDR.jpg  GMB_07"
            ]
          },
          "metadata": {
            "tags": []
          },
          "execution_count": 7
        }
      ]
    },
    {
      "cell_type": "code",
      "metadata": {
        "id": "9Q-KXSsGVGB0"
      },
      "source": [
        "# loop over our input images\n",
        "for imagePath in imagePaths:\n",
        "\t# load the input image from disk, resize it to 64x64 pixels, scale\n",
        "\t# the pixel intensities to the range [0, 1], and then update our\n",
        "\t# images list\n",
        "\timage = Image.open(imagePath)\n",
        "\timage = np.array(image.resize((224, 224))) / 255.0\n",
        "\tdata.append(image)\n",
        "\n",
        "\t# extract the class label from the file path and update the\n",
        "\t# labels list\n",
        "\tlabel = imagePath.split(os.path.sep)[-2]\n",
        "\tlabels.append(label)"
      ],
      "execution_count": 8,
      "outputs": []
    },
    {
      "cell_type": "code",
      "metadata": {
        "id": "Rzbolh88VGB2",
        "colab": {
          "base_uri": "https://localhost:8080/"
        },
        "outputId": "4b1c7089-a893-4314-d0a1-dfaf350f18f1"
      },
      "source": [
        "print(labels)"
      ],
      "execution_count": 9,
      "outputs": [
        {
          "output_type": "stream",
          "text": [
            "['GMB_07', 'GMB_07', 'GMB_07', 'GMB_07', 'GMB_07', 'GMB_07', 'GMB_07', 'GMB_07', 'GMB_07', 'GMB_07', 'GMB_07', 'GMB_07', 'GMB_07', 'GMB_07', 'GMB_07', 'GMB_07', 'GMB_07', 'GMB_07', 'GMB_07', 'GMB_07', 'GMB_07', 'GMB_07', 'GMB_07', 'GMB_07', 'GMB_07', 'GMB_07', 'GMB_07', 'GMB_07', 'GMB_07', 'GMB_07', 'GMB_07', 'GMB_07', 'GMB_07', 'GMB_07', 'GMB_07', 'GMB_07', 'GMB_07', 'GMB_07', 'GMB_07', 'GMB_07', 'GMB_07', 'GMB_07', 'GMB_07', 'GMB_07', 'GMB_07', 'GMB_07', 'GMB_07', 'GMB_07', 'GMB_07', 'GMB_07', 'GMB_07', 'GMB_07', 'GMB_07', 'GMB_07', 'GMB_07', 'GMB_07', 'GMB_07', 'GMB_07', 'GMB_07', 'GMB_07', 'GMB_07', 'GMB_07', 'GMB_07', 'GMB_07', 'GMB_07', 'GMB_07', 'GMB_07', 'GMB_07', 'GMB_07', 'GMB_07', 'GMB_07', 'GMB_07', 'GMB_07', 'GMB_07', 'GMB_07', 'GMB_07', 'GMB_07', 'GMB_07', 'GMB_07', 'GMB_07', 'GMB_07', 'GMB_07', 'GMB_07', 'GMB_07', 'GMB_07', 'GMB_07', 'GMB_07', 'GMB_07', 'GMB_07', 'GMB_07', 'GMB_07', 'GMB_07', 'GMB_07', 'GMB_07', 'GMB_07', 'GMB_07', 'GMB_07', 'GMB_07', 'GMB_07', 'GMB_07', 'GMB_07', 'GMB_07', 'GMB_07', 'GMB_07', 'GMB_07', 'GMB_07', 'GMB_07', 'GMB_07', 'GMB_07', 'GMB_07', 'GMB_07', 'GMB_07', 'GMB_07', 'GMB_07', 'GMB_07', 'GMB_07', 'GMB_07', 'GMB_07', 'GMB_07', 'GMB_07', 'GMB_07', 'GMB_04', 'GMB_04', 'GMB_04', 'GMB_04', 'GMB_04', 'GMB_04', 'GMB_04', 'GMB_04', 'GMB_04', 'GMB_04', 'GMB_04', 'GMB_04', 'GMB_04', 'GMB_04', 'GMB_04', 'GMB_04', 'GMB_04', 'GMB_04', 'GMB_04', 'GMB_04', 'GMB_04', 'GMB_04', 'GMB_04', 'GMB_04', 'GMB_04', 'GMB_04', 'GMB_04', 'GMB_04', 'GMB_04', 'GMB_04', 'GMB_04', 'GMB_04', 'GMB_04', 'GMB_04', 'GMB_04', 'GMB_04', 'GMB_04', 'GMB_04', 'GMB_04', 'GMB_04', 'GMB_04', 'GMB_04', 'GMB_04', 'GMB_04', 'GMB_04', 'GMB_04', 'GMB_04', 'GMB_04', 'GMB_04', 'GMB_04', 'GMB_04', 'GMB_04', 'GMB_04', 'GMB_04', 'GMB_04', 'GMB_04', 'GMB_04', 'GMB_04', 'GMB_04', 'GMB_04', 'GMB_04', 'GMB_04', 'GMB_04', 'GMB_04', 'GMB_04', 'GMB_04', 'GMB_04', 'GMB_04', 'GMB_04', 'GMB_04', 'GMB_04', 'GMB_04', 'GMB_04', 'GMB_04', 'GMB_04', 'GMB_04', 'GMB_04', 'GMB_04', 'GMB_04', 'GMB_04', 'GMB_04', 'GMB_04', 'GMB_04', 'GMB_04', 'GMB_04', 'GMB_04', 'GMB_04', 'GMB_04', 'GMB_04', 'GMB_04', 'GMB_04', 'GMB_04', 'GMB_04', 'GMB_04', 'GMB_04', 'GMB_04', 'GMB_04', 'GMB_04', 'GMB_04', 'GMB_04', 'GMB_04', 'GMB_04', 'GMB_04', 'GMB_04', 'GMB_04', 'GMB_04', 'GMB_04', 'GMB_04', 'GMB_04', 'GMB_04', 'GMB_04', 'GMB_04', 'GMB_04', 'GMB_04', 'GMB_04', 'GMB_04', 'GMB_04', 'GMB_04', 'GMB_04', 'GMB_04', 'GMB_04', 'GMB_04', 'GMB_05', 'GMB_05', 'GMB_05', 'GMB_05', 'GMB_05', 'GMB_05', 'GMB_05', 'GMB_05', 'GMB_05', 'GMB_05', 'GMB_05', 'GMB_05', 'GMB_05', 'GMB_05', 'GMB_05', 'GMB_05', 'GMB_05', 'GMB_05', 'GMB_05', 'GMB_05', 'GMB_05', 'GMB_05', 'GMB_05', 'GMB_05', 'GMB_05', 'GMB_05', 'GMB_05', 'GMB_05', 'GMB_05', 'GMB_05', 'GMB_05', 'GMB_05', 'GMB_05', 'GMB_05', 'GMB_05', 'GMB_05', 'GMB_05', 'GMB_05', 'GMB_05', 'GMB_05', 'GMB_05', 'GMB_05', 'GMB_05', 'GMB_05', 'GMB_05', 'GMB_05', 'GMB_05', 'GMB_05', 'GMB_05', 'GMB_05', 'GMB_05', 'GMB_05', 'GMB_05', 'GMB_05', 'GMB_05', 'GMB_05', 'GMB_05', 'GMB_05', 'GMB_05', 'GMB_05', 'GMB_05', 'GMB_05', 'GMB_05', 'GMB_05', 'GMB_05', 'GMB_05', 'GMB_05', 'GMB_05', 'GMB_05', 'GMB_05', 'GMB_05', 'GMB_05', 'GMB_05', 'GMB_05', 'GMB_05', 'GMB_05', 'GMB_05', 'GMB_05', 'GMB_05', 'GMB_05', 'GMB_05', 'GMB_05', 'GMB_05', 'GMB_05', 'GMB_05', 'GMB_05', 'GMB_05', 'GMB_05', 'GMB_05', 'GMB_05', 'GMB_05', 'GMB_05', 'GMB_05', 'GMB_05', 'GMB_05', 'GMB_05', 'GMB_05', 'GMB_05', 'GMB_05', 'GMB_05', 'GMB_05', 'GMB_05', 'GMB_05', 'GMB_05', 'GMB_05', 'GMB_05', 'GMB_05', 'GMB_05', 'GMB_05', 'GMB_05', 'GMB_05', 'GMB_05', 'GMB_05', 'GMB_05', 'GMB_05', 'GMB_05', 'GMB_05', 'GMB_05', 'GMB_05', 'GMB_05', 'GMB_05', 'GMB_06', 'GMB_06', 'GMB_06', 'GMB_06', 'GMB_06', 'GMB_06', 'GMB_06', 'GMB_06', 'GMB_06', 'GMB_06', 'GMB_06', 'GMB_06', 'GMB_06', 'GMB_06', 'GMB_06', 'GMB_06', 'GMB_06', 'GMB_06', 'GMB_06', 'GMB_06', 'GMB_06', 'GMB_06', 'GMB_06', 'GMB_06', 'GMB_06', 'GMB_06', 'GMB_06', 'GMB_06', 'GMB_06', 'GMB_06', 'GMB_06', 'GMB_06', 'GMB_06', 'GMB_06', 'GMB_06', 'GMB_06', 'GMB_06', 'GMB_06', 'GMB_06', 'GMB_06', 'GMB_06', 'GMB_06', 'GMB_06', 'GMB_06', 'GMB_06', 'GMB_06', 'GMB_06', 'GMB_06', 'GMB_06', 'GMB_06', 'GMB_06', 'GMB_06', 'GMB_06', 'GMB_06', 'GMB_06', 'GMB_06', 'GMB_06', 'GMB_06', 'GMB_06', 'GMB_06', 'GMB_06', 'GMB_06', 'GMB_06', 'GMB_06', 'GMB_06', 'GMB_06', 'GMB_06', 'GMB_06', 'GMB_06', 'GMB_06', 'GMB_06', 'GMB_06', 'GMB_06', 'GMB_06', 'GMB_06', 'GMB_06', 'GMB_06', 'GMB_06', 'GMB_06', 'GMB_06', 'GMB_06', 'GMB_06', 'GMB_06', 'GMB_06', 'GMB_06', 'GMB_06', 'GMB_06', 'GMB_06', 'GMB_06', 'GMB_06', 'GMB_06', 'GMB_06', 'GMB_06', 'GMB_06', 'GMB_06', 'GMB_06', 'GMB_06', 'GMB_06', 'GMB_06', 'GMB_06', 'GMB_06', 'GMB_06', 'GMB_06', 'GMB_06', 'GMB_06', 'GMB_06', 'GMB_06', 'GMB_06', 'GMB_06', 'GMB_06', 'GMB_06', 'GMB_06', 'GMB_06', 'GMB_06', 'GMB_06', 'GMB_06', 'GMB_06', 'GMB_06', 'GMB_06', 'GMB_06', 'GMB_06', 'GMB_03', 'GMB_03', 'GMB_03', 'GMB_03', 'GMB_03', 'GMB_03', 'GMB_03', 'GMB_03', 'GMB_03', 'GMB_03', 'GMB_03', 'GMB_03', 'GMB_03', 'GMB_03', 'GMB_03', 'GMB_03', 'GMB_03', 'GMB_03', 'GMB_03', 'GMB_03', 'GMB_03', 'GMB_03', 'GMB_03', 'GMB_03', 'GMB_03', 'GMB_03', 'GMB_03', 'GMB_03', 'GMB_03', 'GMB_03', 'GMB_03', 'GMB_03', 'GMB_03', 'GMB_03', 'GMB_03', 'GMB_03', 'GMB_03', 'GMB_03', 'GMB_03', 'GMB_03', 'GMB_03', 'GMB_03', 'GMB_03', 'GMB_03', 'GMB_03', 'GMB_03', 'GMB_03', 'GMB_03', 'GMB_03', 'GMB_03', 'GMB_03', 'GMB_03', 'GMB_03', 'GMB_03', 'GMB_03', 'GMB_03', 'GMB_03', 'GMB_03', 'GMB_03', 'GMB_03', 'GMB_03', 'GMB_03', 'GMB_03', 'GMB_03', 'GMB_03', 'GMB_03', 'GMB_03', 'GMB_03', 'GMB_03', 'GMB_03', 'GMB_03', 'GMB_03', 'GMB_03', 'GMB_03', 'GMB_03', 'GMB_03', 'GMB_03', 'GMB_03', 'GMB_03', 'GMB_03', 'GMB_03', 'GMB_03', 'GMB_03', 'GMB_03', 'GMB_03', 'GMB_03', 'GMB_03', 'GMB_03', 'GMB_03', 'GMB_03', 'GMB_03', 'GMB_03', 'GMB_03', 'GMB_03', 'GMB_03', 'GMB_03', 'GMB_03', 'GMB_03', 'GMB_03', 'GMB_03', 'GMB_03', 'GMB_03', 'GMB_03', 'GMB_03', 'GMB_03', 'GMB_03', 'GMB_03', 'GMB_03', 'GMB_03', 'GMB_03', 'GMB_03', 'GMB_03']\n"
          ],
          "name": "stdout"
        }
      ]
    },
    {
      "cell_type": "code",
      "metadata": {
        "id": "twd1IeuKVGB5"
      },
      "source": [
        "# encode the labels, converting them from strings to integers\n",
        "lb = LabelBinarizer()\n",
        "labels = lb.fit_transform(labels)"
      ],
      "execution_count": 10,
      "outputs": []
    },
    {
      "cell_type": "code",
      "metadata": {
        "id": "5FPCyIqcVGB7",
        "colab": {
          "base_uri": "https://localhost:8080/"
        },
        "outputId": "796cfc0d-eb50-49f5-c44e-7ca09cb11f7a"
      },
      "source": [
        "print(labels)"
      ],
      "execution_count": 11,
      "outputs": [
        {
          "output_type": "stream",
          "text": [
            "[[0 0 0 0 1]\n",
            " [0 0 0 0 1]\n",
            " [0 0 0 0 1]\n",
            " ...\n",
            " [1 0 0 0 0]\n",
            " [1 0 0 0 0]\n",
            " [1 0 0 0 0]]\n"
          ],
          "name": "stdout"
        }
      ]
    },
    {
      "cell_type": "code",
      "metadata": {
        "id": "ktZ5hNYwVGB9",
        "colab": {
          "base_uri": "https://localhost:8080/"
        },
        "outputId": "0a26846e-9bd5-4010-d7e8-98b99e5095d6"
      },
      "source": [
        "# perform a training and testing split, using 75% of the data for\n",
        "# training and 25% for evaluation\n",
        "(trainX, testX, trainY, testY) = train_test_split(np.array(data),\tnp.array(labels), test_size=0.25)\n",
        "print(trainX.shape)\n",
        "print(testX.shape)"
      ],
      "execution_count": 12,
      "outputs": [
        {
          "output_type": "stream",
          "text": [
            "(447, 224, 224, 3)\n",
            "(150, 224, 224, 3)\n"
          ],
          "name": "stdout"
        }
      ]
    },
    {
      "cell_type": "code",
      "metadata": {
        "id": "1gv-u7AfEBQg"
      },
      "source": [
        "from tensorflow.keras.applications.vgg16 import VGG16\n",
        "\n",
        "base_model = VGG16(input_shape = (224, 224, 3), # Shape of our images\n",
        "include_top = False, # Leave out the last fully connected layer\n",
        "weights = 'imagenet')\n",
        "\n",
        "for layer in base_model.layers:\n",
        "    layer.trainable = False"
      ],
      "execution_count": 13,
      "outputs": []
    },
    {
      "cell_type": "code",
      "metadata": {
        "id": "9fGg0tyJsii5",
        "colab": {
          "base_uri": "https://localhost:8080/"
        },
        "outputId": "8a03996c-5b13-416f-cfe4-9098385eee70"
      },
      "source": [
        "# Flatten the output layer to 1 dimension\n",
        "x = layers.Flatten()(base_model.output)\n",
        "\n",
        "# Add a fully connected layer with 512 hidden units and ReLU activation\n",
        "x = layers.Dense(1024, activation='relu')(x)\n",
        "\n",
        "# Add a dropout rate of 0.5\n",
        "x = layers.Dropout(0.15)(x)\n",
        "\n",
        "# Add a final sigmoid layer for classification\n",
        "x = layers.Dense(5, activation='sigmoid')(x)\n",
        "\n",
        "model = tf.keras.models.Model(base_model.input, x)\n",
        "\n",
        "model.compile(optimizer = tf.keras.optimizers.RMSprop(lr=0.0001), loss = 'binary_crossentropy',metrics = ['acc'])\n",
        "\n",
        "model.summary()\n"
      ],
      "execution_count": 14,
      "outputs": [
        {
          "output_type": "stream",
          "text": [
            "Model: \"functional_1\"\n",
            "_________________________________________________________________\n",
            "Layer (type)                 Output Shape              Param #   \n",
            "=================================================================\n",
            "input_1 (InputLayer)         [(None, 224, 224, 3)]     0         \n",
            "_________________________________________________________________\n",
            "block1_conv1 (Conv2D)        (None, 224, 224, 64)      1792      \n",
            "_________________________________________________________________\n",
            "block1_conv2 (Conv2D)        (None, 224, 224, 64)      36928     \n",
            "_________________________________________________________________\n",
            "block1_pool (MaxPooling2D)   (None, 112, 112, 64)      0         \n",
            "_________________________________________________________________\n",
            "block2_conv1 (Conv2D)        (None, 112, 112, 128)     73856     \n",
            "_________________________________________________________________\n",
            "block2_conv2 (Conv2D)        (None, 112, 112, 128)     147584    \n",
            "_________________________________________________________________\n",
            "block2_pool (MaxPooling2D)   (None, 56, 56, 128)       0         \n",
            "_________________________________________________________________\n",
            "block3_conv1 (Conv2D)        (None, 56, 56, 256)       295168    \n",
            "_________________________________________________________________\n",
            "block3_conv2 (Conv2D)        (None, 56, 56, 256)       590080    \n",
            "_________________________________________________________________\n",
            "block3_conv3 (Conv2D)        (None, 56, 56, 256)       590080    \n",
            "_________________________________________________________________\n",
            "block3_pool (MaxPooling2D)   (None, 28, 28, 256)       0         \n",
            "_________________________________________________________________\n",
            "block4_conv1 (Conv2D)        (None, 28, 28, 512)       1180160   \n",
            "_________________________________________________________________\n",
            "block4_conv2 (Conv2D)        (None, 28, 28, 512)       2359808   \n",
            "_________________________________________________________________\n",
            "block4_conv3 (Conv2D)        (None, 28, 28, 512)       2359808   \n",
            "_________________________________________________________________\n",
            "block4_pool (MaxPooling2D)   (None, 14, 14, 512)       0         \n",
            "_________________________________________________________________\n",
            "block5_conv1 (Conv2D)        (None, 14, 14, 512)       2359808   \n",
            "_________________________________________________________________\n",
            "block5_conv2 (Conv2D)        (None, 14, 14, 512)       2359808   \n",
            "_________________________________________________________________\n",
            "block5_conv3 (Conv2D)        (None, 14, 14, 512)       2359808   \n",
            "_________________________________________________________________\n",
            "block5_pool (MaxPooling2D)   (None, 7, 7, 512)         0         \n",
            "_________________________________________________________________\n",
            "flatten (Flatten)            (None, 25088)             0         \n",
            "_________________________________________________________________\n",
            "dense (Dense)                (None, 1024)              25691136  \n",
            "_________________________________________________________________\n",
            "dropout (Dropout)            (None, 1024)              0         \n",
            "_________________________________________________________________\n",
            "dense_1 (Dense)              (None, 5)                 5125      \n",
            "=================================================================\n",
            "Total params: 40,410,949\n",
            "Trainable params: 25,696,261\n",
            "Non-trainable params: 14,714,688\n",
            "_________________________________________________________________\n"
          ],
          "name": "stdout"
        }
      ]
    },
    {
      "cell_type": "code",
      "metadata": {
        "id": "6gVx0PzEF5p2"
      },
      "source": [
        "es = EarlyStopping(monitor='val_loss',\n",
        "                   patience=5,\n",
        "                   mode='auto',\n",
        "                   restore_best_weights=True)\n",
        "checkpoint = ModelCheckpoint('best_weight_scene.h5',\n",
        "                             monitor='val_accuracy',\n",
        "                             verbose=1,\n",
        "                             save_best_only=True,\n",
        "                             mode='auto',)"
      ],
      "execution_count": 15,
      "outputs": []
    },
    {
      "cell_type": "code",
      "metadata": {
        "colab": {
          "base_uri": "https://localhost:8080/"
        },
        "id": "a728USo3tuy4",
        "outputId": "7df09d86-1f87-4cd2-d80b-86612138e12f"
      },
      "source": [
        "\n",
        "vgghist = model.fit(trainX, trainY, validation_data=(testX, testY), epochs=30, batch_size=32, callbacks=[checkpoint])"
      ],
      "execution_count": 16,
      "outputs": [
        {
          "output_type": "stream",
          "text": [
            "Epoch 1/30\n",
            "14/14 [==============================] - ETA: 0s - loss: 0.6790 - acc: 0.3356WARNING:tensorflow:Can save best model only with val_accuracy available, skipping.\n",
            "14/14 [==============================] - 3s 192ms/step - loss: 0.6790 - acc: 0.3356 - val_loss: 0.4141 - val_acc: 0.3800\n",
            "Epoch 2/30\n",
            "14/14 [==============================] - ETA: 0s - loss: 0.3570 - acc: 0.5772WARNING:tensorflow:Can save best model only with val_accuracy available, skipping.\n",
            "14/14 [==============================] - 1s 90ms/step - loss: 0.3570 - acc: 0.5772 - val_loss: 0.3085 - val_acc: 0.6933\n",
            "Epoch 3/30\n",
            "14/14 [==============================] - ETA: 0s - loss: 0.2523 - acc: 0.7964WARNING:tensorflow:Can save best model only with val_accuracy available, skipping.\n",
            "14/14 [==============================] - 1s 89ms/step - loss: 0.2523 - acc: 0.7964 - val_loss: 0.2608 - val_acc: 0.7467\n",
            "Epoch 4/30\n",
            "14/14 [==============================] - ETA: 0s - loss: 0.2190 - acc: 0.8031WARNING:tensorflow:Can save best model only with val_accuracy available, skipping.\n",
            "14/14 [==============================] - 1s 88ms/step - loss: 0.2190 - acc: 0.8031 - val_loss: 0.2466 - val_acc: 0.7533\n",
            "Epoch 5/30\n",
            "14/14 [==============================] - ETA: 0s - loss: 0.1670 - acc: 0.8814WARNING:tensorflow:Can save best model only with val_accuracy available, skipping.\n",
            "14/14 [==============================] - 1s 90ms/step - loss: 0.1670 - acc: 0.8814 - val_loss: 0.2164 - val_acc: 0.7733\n",
            "Epoch 6/30\n",
            "14/14 [==============================] - ETA: 0s - loss: 0.1734 - acc: 0.8523WARNING:tensorflow:Can save best model only with val_accuracy available, skipping.\n",
            "14/14 [==============================] - 1s 91ms/step - loss: 0.1734 - acc: 0.8523 - val_loss: 0.2289 - val_acc: 0.7867\n",
            "Epoch 7/30\n",
            "14/14 [==============================] - ETA: 0s - loss: 0.1389 - acc: 0.8949WARNING:tensorflow:Can save best model only with val_accuracy available, skipping.\n",
            "14/14 [==============================] - 1s 90ms/step - loss: 0.1389 - acc: 0.8949 - val_loss: 0.2063 - val_acc: 0.8400\n",
            "Epoch 8/30\n",
            "14/14 [==============================] - ETA: 0s - loss: 0.1284 - acc: 0.9150WARNING:tensorflow:Can save best model only with val_accuracy available, skipping.\n",
            "14/14 [==============================] - 1s 90ms/step - loss: 0.1284 - acc: 0.9150 - val_loss: 0.1369 - val_acc: 0.9000\n",
            "Epoch 9/30\n",
            "14/14 [==============================] - ETA: 0s - loss: 0.0926 - acc: 0.9553WARNING:tensorflow:Can save best model only with val_accuracy available, skipping.\n",
            "14/14 [==============================] - 1s 91ms/step - loss: 0.0926 - acc: 0.9553 - val_loss: 0.1995 - val_acc: 0.8200\n",
            "Epoch 10/30\n",
            "14/14 [==============================] - ETA: 0s - loss: 0.0907 - acc: 0.9553WARNING:tensorflow:Can save best model only with val_accuracy available, skipping.\n",
            "14/14 [==============================] - 1s 90ms/step - loss: 0.0907 - acc: 0.9553 - val_loss: 0.1695 - val_acc: 0.8333\n",
            "Epoch 11/30\n",
            "14/14 [==============================] - ETA: 0s - loss: 0.0857 - acc: 0.9441WARNING:tensorflow:Can save best model only with val_accuracy available, skipping.\n",
            "14/14 [==============================] - 1s 90ms/step - loss: 0.0857 - acc: 0.9441 - val_loss: 0.1174 - val_acc: 0.9000\n",
            "Epoch 12/30\n",
            "14/14 [==============================] - ETA: 0s - loss: 0.0582 - acc: 0.9843WARNING:tensorflow:Can save best model only with val_accuracy available, skipping.\n",
            "14/14 [==============================] - 1s 90ms/step - loss: 0.0582 - acc: 0.9843 - val_loss: 0.2025 - val_acc: 0.8067\n",
            "Epoch 13/30\n",
            "14/14 [==============================] - ETA: 0s - loss: 0.0791 - acc: 0.9575WARNING:tensorflow:Can save best model only with val_accuracy available, skipping.\n",
            "14/14 [==============================] - 1s 91ms/step - loss: 0.0791 - acc: 0.9575 - val_loss: 0.2128 - val_acc: 0.8133\n",
            "Epoch 14/30\n",
            "14/14 [==============================] - ETA: 0s - loss: 0.0518 - acc: 0.9799WARNING:tensorflow:Can save best model only with val_accuracy available, skipping.\n",
            "14/14 [==============================] - 1s 91ms/step - loss: 0.0518 - acc: 0.9799 - val_loss: 0.1484 - val_acc: 0.8867\n",
            "Epoch 15/30\n",
            "14/14 [==============================] - ETA: 0s - loss: 0.0414 - acc: 0.9843WARNING:tensorflow:Can save best model only with val_accuracy available, skipping.\n",
            "14/14 [==============================] - 1s 92ms/step - loss: 0.0414 - acc: 0.9843 - val_loss: 0.1324 - val_acc: 0.9000\n",
            "Epoch 16/30\n",
            "14/14 [==============================] - ETA: 0s - loss: 0.0618 - acc: 0.9620WARNING:tensorflow:Can save best model only with val_accuracy available, skipping.\n",
            "14/14 [==============================] - 1s 91ms/step - loss: 0.0618 - acc: 0.9620 - val_loss: 0.0969 - val_acc: 0.9133\n",
            "Epoch 17/30\n",
            "14/14 [==============================] - ETA: 0s - loss: 0.0290 - acc: 0.9978WARNING:tensorflow:Can save best model only with val_accuracy available, skipping.\n",
            "14/14 [==============================] - 1s 92ms/step - loss: 0.0290 - acc: 0.9978 - val_loss: 0.1004 - val_acc: 0.9067\n",
            "Epoch 18/30\n",
            "14/14 [==============================] - ETA: 0s - loss: 0.0318 - acc: 0.9888WARNING:tensorflow:Can save best model only with val_accuracy available, skipping.\n",
            "14/14 [==============================] - 1s 91ms/step - loss: 0.0318 - acc: 0.9888 - val_loss: 0.1345 - val_acc: 0.8933\n",
            "Epoch 19/30\n",
            "14/14 [==============================] - ETA: 0s - loss: 0.0304 - acc: 0.9955WARNING:tensorflow:Can save best model only with val_accuracy available, skipping.\n",
            "14/14 [==============================] - 1s 91ms/step - loss: 0.0304 - acc: 0.9955 - val_loss: 0.2145 - val_acc: 0.8667\n",
            "Epoch 20/30\n",
            "14/14 [==============================] - ETA: 0s - loss: 0.0356 - acc: 0.9843WARNING:tensorflow:Can save best model only with val_accuracy available, skipping.\n",
            "14/14 [==============================] - 1s 92ms/step - loss: 0.0356 - acc: 0.9843 - val_loss: 0.1491 - val_acc: 0.8600\n",
            "Epoch 21/30\n",
            "14/14 [==============================] - ETA: 0s - loss: 0.0310 - acc: 0.9888WARNING:tensorflow:Can save best model only with val_accuracy available, skipping.\n",
            "14/14 [==============================] - 1s 90ms/step - loss: 0.0310 - acc: 0.9888 - val_loss: 0.1271 - val_acc: 0.8733\n",
            "Epoch 22/30\n",
            "14/14 [==============================] - ETA: 0s - loss: 0.0210 - acc: 1.0000WARNING:tensorflow:Can save best model only with val_accuracy available, skipping.\n",
            "14/14 [==============================] - 1s 91ms/step - loss: 0.0210 - acc: 1.0000 - val_loss: 0.1659 - val_acc: 0.8933\n",
            "Epoch 23/30\n",
            "14/14 [==============================] - ETA: 0s - loss: 0.0195 - acc: 0.9955WARNING:tensorflow:Can save best model only with val_accuracy available, skipping.\n",
            "14/14 [==============================] - 1s 91ms/step - loss: 0.0195 - acc: 0.9955 - val_loss: 0.0935 - val_acc: 0.9200\n",
            "Epoch 24/30\n",
            "14/14 [==============================] - ETA: 0s - loss: 0.0290 - acc: 0.9888WARNING:tensorflow:Can save best model only with val_accuracy available, skipping.\n",
            "14/14 [==============================] - 1s 92ms/step - loss: 0.0290 - acc: 0.9888 - val_loss: 0.1331 - val_acc: 0.9000\n",
            "Epoch 25/30\n",
            "14/14 [==============================] - ETA: 0s - loss: 0.0240 - acc: 0.9933WARNING:tensorflow:Can save best model only with val_accuracy available, skipping.\n",
            "14/14 [==============================] - 1s 91ms/step - loss: 0.0240 - acc: 0.9933 - val_loss: 0.1353 - val_acc: 0.9067\n",
            "Epoch 26/30\n",
            "14/14 [==============================] - ETA: 0s - loss: 0.0106 - acc: 1.0000WARNING:tensorflow:Can save best model only with val_accuracy available, skipping.\n",
            "14/14 [==============================] - 1s 91ms/step - loss: 0.0106 - acc: 1.0000 - val_loss: 0.0946 - val_acc: 0.9267\n",
            "Epoch 27/30\n",
            "14/14 [==============================] - ETA: 0s - loss: 0.0132 - acc: 1.0000WARNING:tensorflow:Can save best model only with val_accuracy available, skipping.\n",
            "14/14 [==============================] - 1s 91ms/step - loss: 0.0132 - acc: 1.0000 - val_loss: 0.1191 - val_acc: 0.9133\n",
            "Epoch 28/30\n",
            "14/14 [==============================] - ETA: 0s - loss: 0.0368 - acc: 0.9866WARNING:tensorflow:Can save best model only with val_accuracy available, skipping.\n",
            "14/14 [==============================] - 1s 90ms/step - loss: 0.0368 - acc: 0.9866 - val_loss: 0.1015 - val_acc: 0.9067\n",
            "Epoch 29/30\n",
            "14/14 [==============================] - ETA: 0s - loss: 0.0066 - acc: 1.0000WARNING:tensorflow:Can save best model only with val_accuracy available, skipping.\n",
            "14/14 [==============================] - 1s 91ms/step - loss: 0.0066 - acc: 1.0000 - val_loss: 0.1032 - val_acc: 0.9200\n",
            "Epoch 30/30\n",
            "14/14 [==============================] - ETA: 0s - loss: 0.0153 - acc: 0.9978WARNING:tensorflow:Can save best model only with val_accuracy available, skipping.\n",
            "14/14 [==============================] - 1s 91ms/step - loss: 0.0153 - acc: 0.9978 - val_loss: 0.0994 - val_acc: 0.9267\n"
          ],
          "name": "stdout"
        }
      ]
    },
    {
      "cell_type": "code",
      "metadata": {
        "id": "98_oXi-lcgux",
        "colab": {
          "base_uri": "https://localhost:8080/",
          "height": 591
        },
        "outputId": "a8d60b02-1d88-48f6-e088-239d8e39c5b9"
      },
      "source": [
        "import matplotlib.pyplot as plt\n",
        "\n",
        "print(vgghist.history.keys())\n",
        "# summarize history for accuracy\n",
        "plt.plot(vgghist.history['acc'])\n",
        "plt.plot(vgghist.history['val_acc'])\n",
        "plt.title('model accuracy')\n",
        "plt.ylabel('acc')\n",
        "plt.xlabel('epoch')\n",
        "plt.legend(['train', 'test'], loc='upper left')\n",
        "plt.show()\n",
        "# summarize history for loss\n",
        "plt.plot(vgghist.history['loss'])\n",
        "plt.plot(vgghist.history['val_loss'])\n",
        "plt.title('model loss')\n",
        "plt.ylabel('loss')\n",
        "plt.xlabel('epoch')\n",
        "plt.legend(['train', 'test'], loc='upper left')\n",
        "plt.show()"
      ],
      "execution_count": 17,
      "outputs": [
        {
          "output_type": "stream",
          "text": [
            "dict_keys(['loss', 'acc', 'val_loss', 'val_acc'])\n"
          ],
          "name": "stdout"
        },
        {
          "output_type": "display_data",
          "data": {
            "image/png": "[encoded data removed]",
            "text/plain": [
              "<Figure size 432x288 with 1 Axes>"
            ]
          },
          "metadata": {
            "tags": [],
            "needs_background": "light"
          }
        },
        {
          "output_type": "display_data",
          "data": {
            "image/png": "[encoded data removed]",
            "text/plain": [
              "<Figure size 432x288 with 1 Axes>"
            ]
          },
          "metadata": {
            "tags": [],
            "needs_background": "light"
          }
        }
      ]
    },
    {
      "cell_type": "code",
      "metadata": {
        "id": "lPAZkmBJVGCD",
        "colab": {
          "base_uri": "https://localhost:8080/"
        },
        "outputId": "c646a808-46f0-45eb-8e68-e81b6ec9b06e"
      },
      "source": [
        "# evaluate the network\n",
        "print(\"[INFO] evaluating network...\")\n",
        "predictions = model.predict(testX, batch_size=32)\n",
        "print(classification_report(testY.argmax(axis=1),\n",
        "\tpredictions.argmax(axis=1), target_names=lb.classes_))"
      ],
      "execution_count": 18,
      "outputs": [
        {
          "output_type": "stream",
          "text": [
            "[INFO] evaluating network...\n",
            "              precision    recall  f1-score   support\n",
            "\n",
            "      GMB_03       0.89      0.97      0.93        32\n",
            "      GMB_04       0.93      0.90      0.92        30\n",
            "      GMB_05       1.00      0.87      0.93        30\n",
            "      GMB_06       0.91      0.91      0.91        34\n",
            "      GMB_07       0.92      1.00      0.96        24\n",
            "\n",
            "    accuracy                           0.93       150\n",
            "   macro avg       0.93      0.93      0.93       150\n",
            "weighted avg       0.93      0.93      0.93       150\n",
            "\n"
          ],
          "name": "stdout"
        }
      ]
    }
  ]
}